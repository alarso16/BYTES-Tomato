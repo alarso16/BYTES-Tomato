{
 "cells": [
  {
   "cell_type": "markdown",
   "id": "cbcf10b4-b8ba-4232-bf71-5b0b6d81b513",
   "metadata": {},
   "source": [
    "# Part 1: Data Exploration"
   ]
  },
  {
   "cell_type": "markdown",
   "id": "8d6830ba-ece4-45f3-9707-c132f0f0cf20",
   "metadata": {},
   "source": [
    "In this notebook you will perform your:\n",
    "- data cleaning\n",
    "- data exploration\n",
    "- feature engineering\n",
    "\n",
    "There is no one, correct, way to structure this notebook and so you may build this notebook out in whatever way is most conducive towards your preferences. At the very minimum, notebook should read in the raw data and output to .csv format your cleaned and prepared data."
   ]
  },
  {
   "cell_type": "markdown",
   "id": "d1c57f70-6eb2-487f-a5a1-cd6adf7f0ed9",
   "metadata": {},
   "source": [
    "To start you off, the variable df has been pre-loaded to have your training dataset. **This is the data that you will use to train and test your model. The file labled \"test.tsv\" should only be used at the very end of the challenge for your final performance evaluation!** If you would like to know more about this data you can go [here](https://www.kaggle.com/c/sentiment-analysis-on-movie-reviews/overview). We encourage you to look at the 'Overview' and 'Data' tabs; however, we encourage you also to not look at community submissions and to develop your own unique solution from your own research!"
   ]
  },
  {
   "cell_type": "code",
   "execution_count": 1,
   "id": "37517385-a40d-4e72-8918-b5b989302223",
   "metadata": {},
   "outputs": [
    {
     "data": {
      "text/html": [
       "<div>\n",
       "<style scoped>\n",
       "    .dataframe tbody tr th:only-of-type {\n",
       "        vertical-align: middle;\n",
       "    }\n",
       "\n",
       "    .dataframe tbody tr th {\n",
       "        vertical-align: top;\n",
       "    }\n",
       "\n",
       "    .dataframe thead th {\n",
       "        text-align: right;\n",
       "    }\n",
       "</style>\n",
       "<table border=\"1\" class=\"dataframe\">\n",
       "  <thead>\n",
       "    <tr style=\"text-align: right;\">\n",
       "      <th></th>\n",
       "      <th>PhraseId</th>\n",
       "      <th>SentenceId</th>\n",
       "      <th>Phrase</th>\n",
       "      <th>Sentiment</th>\n",
       "    </tr>\n",
       "  </thead>\n",
       "  <tbody>\n",
       "    <tr>\n",
       "      <th>0</th>\n",
       "      <td>1</td>\n",
       "      <td>1</td>\n",
       "      <td>A series of escapades demonstrating the adage ...</td>\n",
       "      <td>1</td>\n",
       "    </tr>\n",
       "    <tr>\n",
       "      <th>1</th>\n",
       "      <td>2</td>\n",
       "      <td>1</td>\n",
       "      <td>A series of escapades demonstrating the adage ...</td>\n",
       "      <td>2</td>\n",
       "    </tr>\n",
       "    <tr>\n",
       "      <th>2</th>\n",
       "      <td>3</td>\n",
       "      <td>1</td>\n",
       "      <td>A series</td>\n",
       "      <td>2</td>\n",
       "    </tr>\n",
       "    <tr>\n",
       "      <th>3</th>\n",
       "      <td>4</td>\n",
       "      <td>1</td>\n",
       "      <td>A</td>\n",
       "      <td>2</td>\n",
       "    </tr>\n",
       "    <tr>\n",
       "      <th>4</th>\n",
       "      <td>5</td>\n",
       "      <td>1</td>\n",
       "      <td>series</td>\n",
       "      <td>2</td>\n",
       "    </tr>\n",
       "  </tbody>\n",
       "</table>\n",
       "</div>"
      ],
      "text/plain": [
       "   PhraseId  SentenceId                                             Phrase  \\\n",
       "0         1           1  A series of escapades demonstrating the adage ...   \n",
       "1         2           1  A series of escapades demonstrating the adage ...   \n",
       "2         3           1                                           A series   \n",
       "3         4           1                                                  A   \n",
       "4         5           1                                             series   \n",
       "\n",
       "   Sentiment  \n",
       "0          1  \n",
       "1          2  \n",
       "2          2  \n",
       "3          2  \n",
       "4          2  "
      ]
     },
     "execution_count": 1,
     "metadata": {},
     "output_type": "execute_result"
    }
   ],
   "source": [
    "import sys\n",
    "import os\n",
    "import pandas as pd\n",
    "import numpy as np\n",
    "import matplotlib.pyplot as plt\n",
    "import seaborn as sns\n",
    "import spacy\n",
    "from tqdm import tqdm\n",
    "%matplotlib inline\n",
    "os.system(\"python -m spacy download en_core_web_lg\")\n",
    "\n",
    "# when it comes time to evaluate the model for final scoring, just change this to test.tsv!\n",
    "df = pd.read_csv('train.csv', index_col=0)\n",
    "df.head()"
   ]
  },
  {
   "cell_type": "markdown",
   "id": "d931f409-01c6-4c03-ad3a-5cd30edbfede",
   "metadata": {
    "tags": []
   },
   "source": [
    "One final note: if you are looking for files you export from this notebook, by default (if you don't otherwise assign the path) any files output from this notebook will be placed in the code directory! Good luck on BYTES Challenge II!!"
   ]
  },
  {
   "cell_type": "code",
   "execution_count": 2,
   "id": "7c029c3a-0768-4fbd-abeb-c680edff5eda",
   "metadata": {},
   "outputs": [
    {
     "name": "stdout",
     "output_type": "stream",
     "text": [
      "Number of Sentences: 4877\n",
      "Number of Phrases: 93644\n",
      "Number of words:\n",
      "Min: 1 Mean: 19.044084478162805 Max: 52\n",
      "Number of times a word occurs only once: 6440\n",
      "Total number of unique words: 12201\n",
      "Known words ratio: 0.4721744119334481\n"
     ]
    },
    {
     "data": {
      "text/plain": [
       "Text(0.5, 1.0, 'Distribution of number of words in a sentence')"
      ]
     },
     "execution_count": 2,
     "metadata": {},
     "output_type": "execute_result"
    },
    {
     "data": {
      "image/png": "[encoded data removed]",
      "text/plain": [
       "<Figure size 360x360 with 1 Axes>"
      ]
     },
     "metadata": {
      "needs_background": "light"
     },
     "output_type": "display_data"
    }
   ],
   "source": [
    "# Print number of samples\n",
    "print('Number of Sentences:', len(df['SentenceId'].value_counts()))\n",
    "print('Number of Phrases:', len(df))\n",
    "\n",
    "# Filter out repeats\n",
    "reduced = df[['SentenceId', 'Phrase', 'Sentiment']].groupby(by='SentenceId').apply(lambda group: group[group['Phrase'].str.len()==group['Phrase'].str.len().max()])\n",
    "# Look at length of average sample\n",
    "reduced['lengths'] = reduced['Phrase'].str.split().str.len()\n",
    "reduced = reduced.set_index(keys=np.arange(len(reduced)))\n",
    "print('Number of words:')\n",
    "print('Min:', reduced['lengths'].min(), 'Mean:', reduced['lengths'].mean(), 'Max:', reduced['lengths'].max())\n",
    "\n",
    "# Print the size of the vocabulary\n",
    "words = reduced['Phrase'].str.split(expand=True).melt(value_name='Word').dropna()\n",
    "words = words[words['Word'].str.isalpha()]['Word'].value_counts()\n",
    "print('Number of times a word occurs only once:', len(words[words==1]))\n",
    "print('Total number of unique words:', len(words))\n",
    "print('Known words ratio:', 1-len(words[words==1])/len(words))\n",
    "\n",
    "sns.displot(reduced['lengths'], kind='kde') # Weird distrbuiton in bars\n",
    "plt.xlabel('Sentence Length')\n",
    "plt.title('Distribution of number of words in a sentence')"
   ]
  },
  {
   "cell_type": "code",
   "execution_count": 3,
   "id": "a7f39d04-e306-4275-b55c-a3d06afc5a3a",
   "metadata": {},
   "outputs": [
    {
     "data": {
      "text/plain": [
       "Text(0.5, 1.0, 'Distribution of ratings')"
      ]
     },
     "execution_count": 3,
     "metadata": {},
     "output_type": "execute_result"
    },
    {
     "data": {
      "image/png": "[encoded data removed]",
      "text/plain": [
       "<Figure size 360x360 with 1 Axes>"
      ]
     },
     "metadata": {
      "needs_background": "light"
     },
     "output_type": "display_data"
    }
   ],
   "source": [
    "sns.displot(reduced['Sentiment'])\n",
    "plt.xlabel('Sentiment')\n",
    "plt.title('Distribution of ratings')"
   ]
  },
  {
   "cell_type": "code",
   "execution_count": 4,
   "id": "5bd97e5c-f0ec-45fa-b7d5-a21d750a0e28",
   "metadata": {},
   "outputs": [
    {
     "name": "stdout",
     "output_type": "stream",
     "text": [
      "<class 'pandas.core.frame.DataFrame'>\n",
      "Int64Index: 93644 entries, 0 to 93643\n",
      "Data columns (total 4 columns):\n",
      " #   Column      Non-Null Count  Dtype \n",
      "---  ------      --------------  ----- \n",
      " 0   PhraseId    93644 non-null  int64 \n",
      " 1   SentenceId  93644 non-null  int64 \n",
      " 2   Phrase      93644 non-null  object\n",
      " 3   Sentiment   93644 non-null  int64 \n",
      "dtypes: int64(3), object(1)\n",
      "memory usage: 3.6+ MB\n",
      "None\n",
      "<class 'pandas.core.frame.DataFrame'>\n",
      "Int64Index: 62416 entries, 93644 to 156059\n",
      "Data columns (total 4 columns):\n",
      " #   Column      Non-Null Count  Dtype \n",
      "---  ------      --------------  ----- \n",
      " 0   PhraseId    62416 non-null  int64 \n",
      " 1   SentenceId  62416 non-null  int64 \n",
      " 2   Phrase      62416 non-null  object\n",
      " 3   Sentiment   62416 non-null  int64 \n",
      "dtypes: int64(3), object(1)\n",
      "memory usage: 2.4+ MB\n",
      "None\n"
     ]
    }
   ],
   "source": [
    "# Confirm that we don't need dropna or anything\n",
    "print(pd.read_csv('train.csv', index_col=0).info())\n",
    "print(pd.read_csv('test.csv', index_col=0).info())"
   ]
  },
  {
   "cell_type": "code",
   "execution_count": 5,
   "id": "6dffc107-4adc-4734-bae3-d49fcfcb9b82",
   "metadata": {},
   "outputs": [
    {
     "data": {
      "text/plain": [
       "\"\\nConclusions from exploratory analysis:\\nBecause each sentence comes with Sentiment ratings for each separate phrase, that could be used for learning. However, this is unlikely to be\\neffective since it is does not account for meaning at all.\\nThere's not a ton of samples, so if I train a neural network, I need to be extremely cautious to not overfit.\\nThe length of each sentence indicates that I could use average word vectors or bag of words representation.\\nThe vocabulary is relatively large, meaning I should use a full vocabulary import while preprocessing the data.\\nOnly about half of the words are repeated, so it is unlikely that bag of words would be very effective.\\n\\nSteps forward:\\nFor this dataset, the obvious choice as to how to preprocess this data is to use average word vectors for the phrase and the length of the\\nphrase in number of words. I'm interested in comparing the performance of a Linear SVM, a Radial SVM, and PyTorch model. I expect all to perform\\nrather similarly, since these word vectors have 200 dimensions.\\n\""
      ]
     },
     "execution_count": 5,
     "metadata": {},
     "output_type": "execute_result"
    }
   ],
   "source": [
    "\"\"\"\n",
    "Conclusions from exploratory analysis:\n",
    "Because each sentence comes with Sentiment ratings for each separate phrase, that could be used for learning. However, this is unlikely to be\n",
    "effective since it is does not account for meaning at all.\n",
    "There's not a ton of samples, so if I train a neural network, I need to be extremely cautious to not overfit.\n",
    "The length of each sentence indicates that I could use average word vectors or bag of words representation.\n",
    "The vocabulary is relatively large, meaning I should use a full vocabulary import while preprocessing the data.\n",
    "Only about half of the words are repeated, so it is unlikely that bag of words would be very effective.\n",
    "\n",
    "Steps forward:\n",
    "For this dataset, the obvious choice as to how to preprocess this data is to use average word vectors for the phrase and the length of the\n",
    "phrase in number of words. I'm interested in comparing the performance of a Linear SVM, a Radial SVM, and PyTorch model. I expect all to perform\n",
    "rather similarly, since these word vectors have 200 dimensions.\n",
    "\"\"\""
   ]
  },
  {
   "cell_type": "code",
   "execution_count": 6,
   "id": "4ae1dc9f-bb76-4238-bae9-299b05327e34",
   "metadata": {},
   "outputs": [],
   "source": [
    "# This cell will contain my function definitions for feature cleaning\n",
    "\n",
    "def avg_vector(data, nlp):\n",
    "    data['lengths'] = data['Phrase'].str.split().str.len()\n",
    "    \n",
    "    with nlp.disable_pipes():\n",
    "        doc_vectors = np.array([nlp(text).vector for text in tqdm(data['Phrase'])])\n",
    "    doc_vectors = pd.DataFrame(doc_vectors, index=data.index)\n",
    "    \n",
    "    data = data.merge(doc_vectors, left_index=True, right_index=True)\n",
    "    \n",
    "    return data"
   ]
  },
  {
   "cell_type": "code",
   "execution_count": 7,
   "id": "aedfcc6a-f84b-473a-a62e-d200edaa64ed",
   "metadata": {},
   "outputs": [
    {
     "name": "stderr",
     "output_type": "stream",
     "text": [
      "100%|██████████| 93644/93644 [10:09<00:00, 153.54it/s]\n"
     ]
    },
    {
     "name": "stdout",
     "output_type": "stream",
     "text": [
      "Finished saving preprocessed training data\n"
     ]
    }
   ],
   "source": [
    "try:\n",
    "    nlp = spacy.load(\"en_core_web_lg\")\n",
    "    train_data = pd.read_csv('train.csv', index_col=0)\n",
    "    preprocessed_train = avg_vector(train_data, nlp)\n",
    "    preprocessed_train.to_csv('preprocessed_train.csv', index=False)\n",
    "    print('Finished saving preprocessed training data')\n",
    "except OSError:\n",
    "    print('You need to run the import box again. The language module was not downloaded properly.')"
   ]
  },
  {
   "cell_type": "code",
   "execution_count": null,
   "id": "2528b5cc-7551-490e-9925-6a8e153f1a9c",
   "metadata": {},
   "outputs": [
    {
     "name": "stderr",
     "output_type": "stream",
     "text": [
      "100%|██████████| 62416/62416 [11:09<00:00, 93.18it/s] \n"
     ]
    }
   ],
   "source": [
    "try:\n",
    "    nlp = spacy.load(\"en_core_web_lg\")\n",
    "    test_data = pd.read_csv('test.csv', index_col=0)\n",
    "    preprocessed_test = avg_vector(test_data, nlp)\n",
    "    preprocessed_test.to_csv('preprocessed_test.csv', index=False)\n",
    "    print('Finished saving preprocessed testing data')\n",
    "except OSError:\n",
    "    print('You need to run the import box again. The language module was not downloaded properly.')"
   ]
  },
  {
   "cell_type": "code",
   "execution_count": null,
   "id": "b9c418eb-959f-4aa2-a3ea-31808adec97d",
   "metadata": {},
   "outputs": [],
   "source": []
  }
 ],
 "metadata": {
  "kernelspec": {
   "display_name": "Python 3",
   "language": "python",
   "name": "python3"
  },
  "language_info": {
   "codemirror_mode": {
    "name": "ipython",
    "version": 3
   },
   "file_extension": ".py",
   "mimetype": "text/x-python",
   "name": "python",
   "nbconvert_exporter": "python",
   "pygments_lexer": "ipython3",
   "version": "3.8.8"
  }
 },
 "nbformat": 4,
 "nbformat_minor": 5
}
