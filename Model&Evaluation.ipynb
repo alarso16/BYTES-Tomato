{
 "cells": [
  {
   "cell_type": "markdown",
   "id": "a40abca3-9408-4381-95c1-a57450615f38",
   "metadata": {},
   "source": [
    "# Part 2: Model Build and Evaluation"
   ]
  },
  {
   "cell_type": "markdown",
   "id": "c5a502d3-91c0-44f0-91a6-d681c32f862d",
   "metadata": {},
   "source": [
    "This notebook is structured to help guide you through the second half of this challenge. If additional cells are needed to build and train your classifier, please feel free to use additional cells. Otherwise please refrain from adding cells at any point in the notebook during this challenge. Please also do not delete or modify the provided headers to the cells. You are welcome to additional comments, though, if needed! Thank you!"
   ]
  },
  {
   "cell_type": "markdown",
   "id": "15d230d5-5c42-4408-8151-709baf34a860",
   "metadata": {},
   "source": [
    "### Import your libraries in the cell below"
   ]
  },
  {
   "cell_type": "code",
   "execution_count": 1,
   "id": "8d0a7d24-33fd-49c6-af0a-76929a7d978d",
   "metadata": {},
   "outputs": [],
   "source": [
    "import pandas as pd\n",
    "import numpy as np\n",
    "from sklearn import svm\n",
    "import torch\n",
    "from torch.utils.data import TensorDataset, DataLoader\n",
    "from torch import nn\n",
    "import pickle\n",
    "from tqdm import tqdm\n",
    "from sklearn.metrics import classification_report"
   ]
  },
  {
   "cell_type": "markdown",
   "id": "f34e6b21-5a72-47da-bd04-d61a29b81b8d",
   "metadata": {},
   "source": [
    "### Import in your csv from the previous notebook in the cell below"
   ]
  },
  {
   "cell_type": "code",
   "execution_count": 2,
   "id": "9bbba31d-503b-4976-8537-980a6bf129e6",
   "metadata": {},
   "outputs": [],
   "source": [
    "train_data = pd.read_csv('preprocessed_train.csv')\n",
    "test_data = pd.read_csv('preprocessed_test.csv')\n",
    "train = (train_data.iloc[:, 4:].to_numpy(dtype=np.float32), train_data.iloc[:,3].to_numpy(dtype=np.int64))\n",
    "test = (test_data.iloc[:, 4:].to_numpy(dtype=np.float32), test_data.iloc[:,3].to_numpy(dtype=np.int64))"
   ]
  },
  {
   "cell_type": "code",
   "execution_count": 3,
   "id": "242985bc-a6f9-4d27-b60e-00e02dd052fc",
   "metadata": {},
   "outputs": [],
   "source": [
    "# Store data for PyTorch\n",
    "batch_size = 500\n",
    "train_tensor = (torch.tensor(train[0]), torch.tensor(train[1]))\n",
    "test_tensor = (torch.tensor(test[0]), torch.tensor(test[1]))\n",
    "train_dataset = TensorDataset(*train_tensor)\n",
    "test_dataset = TensorDataset(*test_tensor)\n",
    "train_dataloader = DataLoader(train_dataset, batch_size=batch_size, shuffle=True)\n",
    "test_dataloader = DataLoader(test_dataset, batch_size = 1)"
   ]
  },
  {
   "cell_type": "markdown",
   "id": "9c8953a2-4891-4b6f-a697-9ad14175060b",
   "metadata": {},
   "source": [
    "### Build and Train your Classifier in this and the following cell(s) "
   ]
  },
  {
   "cell_type": "code",
   "execution_count": 36,
   "id": "e419cd07-7d89-4598-ba57-456b1a4f653b",
   "metadata": {},
   "outputs": [
    {
     "name": "stdout",
     "output_type": "stream",
     "text": [
      "Completed training\n"
     ]
    }
   ],
   "source": [
    "# Linear SVM\n",
    "linear_svm = svm.LinearSVC(dual=False)\n",
    "linear_svm.fit(*train)\n",
    "pickle.dump(linear_svm, open('linear_svm.pth', 'wb'))\n",
    "print('Completed training')"
   ]
  },
  {
   "cell_type": "code",
   "execution_count": null,
   "id": "c5e4284e-170c-4103-a4b0-56f1d2e118a6",
   "metadata": {},
   "outputs": [],
   "source": [
    "# Radial SVM\n",
    "radial_svm = svm.SVC(kernel='rbf')\n",
    "radial_svm.fit(*train)\n",
    "pickle.dump(radial_svm, open('radial_svm.pth', 'wb'))\n",
    "print('Completed Training')"
   ]
  },
  {
   "cell_type": "code",
   "execution_count": 10,
   "id": "8930065c-940f-416a-8749-725e04f00010",
   "metadata": {},
   "outputs": [],
   "source": [
    "# Define PyTorch's Train Loop\n",
    "def train_net(dataloader, model, loss_fn, optimizer, epochs):\n",
    "    for i in range(epochs):\n",
    "        with tqdm(dataloader, desc=f'Epoch {i+1}') as progress:\n",
    "            for (X, y) in progress:\n",
    "                model.train()\n",
    "                pred = model(X)\n",
    "                loss = loss_fn(pred, y)\n",
    "\n",
    "                optimizer.zero_grad()\n",
    "                loss.backward()\n",
    "                optimizer.step()\n",
    "                progress.set_postfix(Loss=f'{loss.item()}')"
   ]
  },
  {
   "cell_type": "code",
   "execution_count": 21,
   "id": "980b03be-b10f-4368-a2b7-2fcea600b860",
   "metadata": {},
   "outputs": [
    {
     "name": "stderr",
     "output_type": "stream",
     "text": [
      "Epoch 1: 100%|██████████| 188/188 [00:49<00:00,  3.80it/s, Loss=1.190236210823059] \n",
      "Epoch 2: 100%|██████████| 188/188 [00:46<00:00,  4.09it/s, Loss=1.1171693801879883]\n",
      "Epoch 3: 100%|██████████| 188/188 [00:53<00:00,  3.49it/s, Loss=1.1013606786727905]\n",
      "Epoch 4: 100%|██████████| 188/188 [00:45<00:00,  4.17it/s, Loss=0.9732760190963745]\n",
      "Epoch 5: 100%|██████████| 188/188 [00:44<00:00,  4.23it/s, Loss=0.8131004571914673]"
     ]
    },
    {
     "name": "stdout",
     "output_type": "stream",
     "text": [
      "Completed Training\n"
     ]
    },
    {
     "name": "stderr",
     "output_type": "stream",
     "text": [
      "\n"
     ]
    }
   ],
   "source": [
    "# Make PyTorch network\n",
    "network = nn.Sequential(nn.Linear(301, 600), nn.ReLU(), nn.Linear(600, 400), nn.ReLU(), nn.Linear(400, 5), nn.ReLU())#nn.Softmax(dim=1))\n",
    "loss_fn = nn.CrossEntropyLoss()\n",
    "learning_rate = 1e-3\n",
    "batch_size = 100\n",
    "epochs = 5\n",
    "optimizer = torch.optim.Adam(params=network.parameters(), lr=learning_rate)\n",
    "train_net(train_dataloader, network, loss_fn, optimizer, epochs)\n",
    "torch.save(network, 'network.pth')\n",
    "print('Completed Training')"
   ]
  },
  {
   "cell_type": "markdown",
   "id": "ea8b9ca3-2043-44dd-9eef-ea4c7992bea6",
   "metadata": {},
   "source": [
    "### Create your Predictions in the cell below"
   ]
  },
  {
   "cell_type": "code",
   "execution_count": 4,
   "id": "9032fe84-5eeb-45a2-8dba-98522bc31b31",
   "metadata": {},
   "outputs": [],
   "source": [
    "linear_svm = pickle.load(open('linear_svm.pth', 'rb'))\n",
    "linear_predictions = linear_svm.predict(test[0])"
   ]
  },
  {
   "cell_type": "code",
   "execution_count": 15,
   "id": "9db312d1-1832-4bf8-abe8-69ade98667ed",
   "metadata": {},
   "outputs": [
    {
     "name": "stdout",
     "output_type": "stream",
     "text": [
      "This takes a while\n"
     ]
    }
   ],
   "source": [
    "radial_svm = pickle.load(open('radial_svm.pth', 'rb'))\n",
    "print('This takes a while')\n",
    "radial_predictions = radial_svm.predict(test[0])"
   ]
  },
  {
   "cell_type": "code",
   "execution_count": 22,
   "id": "c8651c86-2f08-4a6c-90ad-9f19e5633baf",
   "metadata": {},
   "outputs": [
    {
     "name": "stderr",
     "output_type": "stream",
     "text": [
      "1it [00:00,  5.64it/s]"
     ]
    },
    {
     "name": "stdout",
     "output_type": "stream",
     "text": [
      "Needs to reach 62416\n"
     ]
    },
    {
     "name": "stderr",
     "output_type": "stream",
     "text": [
      "62416it [06:09, 168.70it/s]"
     ]
    },
    {
     "name": "stdout",
     "output_type": "stream",
     "text": [
      "Completed\n"
     ]
    },
    {
     "name": "stderr",
     "output_type": "stream",
     "text": [
      "\n"
     ]
    }
   ],
   "source": [
    "print(f'Needs to reach {len(test_dataloader)}')\n",
    "network = torch.load('network.pth')\n",
    "network.eval()\n",
    "torch_predictions = np.zeros(len(test_dataloader))\n",
    "torch_actual = np.zeros(len(test_dataloader))\n",
    "with torch.no_grad():\n",
    "    for i, (X,y) in tqdm(enumerate(test_dataloader)):\n",
    "        torch_predictions[i] = network(X).argmax(1)\n",
    "        torch_actual[i] = y\n",
    "print('Completed')"
   ]
  },
  {
   "cell_type": "markdown",
   "id": "7a27298f-921f-43c4-9b7b-c0cb0c654252",
   "metadata": {},
   "source": [
    "### Perform the final evaluation of the Performance of your model in the cell below"
   ]
  },
  {
   "cell_type": "code",
   "execution_count": 23,
   "id": "ee6313f3-6b6a-44a0-97fb-020be70ab584",
   "metadata": {},
   "outputs": [],
   "source": [
    "def print_metrics(pred, actual):\n",
    "    print(classification_report(actual, pred, zero_division=1))\n",
    "    correct = pred == actual\n",
    "    accuracy = correct.sum() / len(correct)\n",
    "    if accuracy < 0.5:\n",
    "        print('Bad')\n",
    "    elif accuracy < 0.6:\n",
    "        print('Okay')\n",
    "    elif accuracy < 0.7:\n",
    "        print('Good!')\n",
    "    else:\n",
    "        print('Great!!')"
   ]
  },
  {
   "cell_type": "code",
   "execution_count": 6,
   "id": "803d2661-d69a-4228-89a8-11d9d3a1a904",
   "metadata": {},
   "outputs": [
    {
     "name": "stdout",
     "output_type": "stream",
     "text": [
      "Linear SVM Results:\n",
      "              precision    recall  f1-score   support\n",
      "\n",
      "           0       0.60      0.00      0.01      3007\n",
      "           1       0.44      0.24      0.31     11487\n",
      "           2       0.60      0.90      0.72     30971\n",
      "           3       0.48      0.34      0.40     13133\n",
      "           4       0.62      0.02      0.05      3818\n",
      "\n",
      "    accuracy                           0.56     62416\n",
      "   macro avg       0.55      0.30      0.30     62416\n",
      "weighted avg       0.55      0.56      0.50     62416\n",
      "\n",
      "Okay\n"
     ]
    }
   ],
   "source": [
    "print('Linear SVM Results:')\n",
    "print_metrics(linear_predictions, test[1])"
   ]
  },
  {
   "cell_type": "code",
   "execution_count": 16,
   "id": "feb347df-3792-4920-b373-0b58420b3fc1",
   "metadata": {},
   "outputs": [
    {
     "name": "stdout",
     "output_type": "stream",
     "text": [
      "Radial SVM Results:\n",
      "              precision    recall  f1-score   support\n",
      "\n",
      "           0       0.75      0.00      0.00      3007\n",
      "           1       0.46      0.36      0.40     11487\n",
      "           2       0.65      0.86      0.74     30971\n",
      "           3       0.48      0.48      0.48     13133\n",
      "           4       0.00      0.00      0.00      3818\n",
      "\n",
      "    accuracy                           0.59     62416\n",
      "   macro avg       0.47      0.34      0.33     62416\n",
      "weighted avg       0.55      0.59      0.54     62416\n",
      "\n",
      "Okay\n"
     ]
    },
    {
     "name": "stderr",
     "output_type": "stream",
     "text": [
      "/opt/conda/lib/python3.8/site-packages/sklearn/metrics/_classification.py:1248: UndefinedMetricWarning: Precision and F-score are ill-defined and being set to 0.0 in labels with no predicted samples. Use `zero_division` parameter to control this behavior.\n",
      "  _warn_prf(average, modifier, msg_start, len(result))\n",
      "/opt/conda/lib/python3.8/site-packages/sklearn/metrics/_classification.py:1248: UndefinedMetricWarning: Precision and F-score are ill-defined and being set to 0.0 in labels with no predicted samples. Use `zero_division` parameter to control this behavior.\n",
      "  _warn_prf(average, modifier, msg_start, len(result))\n",
      "/opt/conda/lib/python3.8/site-packages/sklearn/metrics/_classification.py:1248: UndefinedMetricWarning: Precision and F-score are ill-defined and being set to 0.0 in labels with no predicted samples. Use `zero_division` parameter to control this behavior.\n",
      "  _warn_prf(average, modifier, msg_start, len(result))\n"
     ]
    }
   ],
   "source": [
    "print('Radial SVM Results:')\n",
    "print_metrics(radial_predictions, test[1])"
   ]
  },
  {
   "cell_type": "code",
   "execution_count": 24,
   "id": "30f85b7c-ca01-4555-934f-f1da629990f2",
   "metadata": {},
   "outputs": [
    {
     "name": "stdout",
     "output_type": "stream",
     "text": [
      "Neural Network Results:\n",
      "              precision    recall  f1-score   support\n",
      "\n",
      "         0.0       0.68      0.02      0.03      3007\n",
      "         1.0       0.47      0.47      0.47     11487\n",
      "         2.0       0.70      0.79      0.74     30971\n",
      "         3.0       0.48      0.58      0.52     13133\n",
      "         4.0       1.00      0.00      0.00      3818\n",
      "\n",
      "    accuracy                           0.60     62416\n",
      "   macro avg       0.67      0.37      0.35     62416\n",
      "weighted avg       0.63      0.60      0.57     62416\n",
      "\n",
      "Good!\n"
     ]
    }
   ],
   "source": [
    "print('Neural Network Results:')\n",
    "print_metrics(torch_predictions, torch_actual)"
   ]
  },
  {
   "cell_type": "code",
   "execution_count": 14,
   "id": "2a5bd881-3463-467c-9a34-206c89cecb5f",
   "metadata": {},
   "outputs": [
    {
     "data": {
      "text/plain": [
       "0.0"
      ]
     },
     "execution_count": 14,
     "metadata": {},
     "output_type": "execute_result"
    }
   ],
   "source": [
    "torch_predictions.std()"
   ]
  },
  {
   "cell_type": "code",
   "execution_count": null,
   "id": "2dc92aba-69e4-4c8b-bd6a-a93c4e99fb1e",
   "metadata": {},
   "outputs": [],
   "source": [
    "\"\"\"\n",
    "Conclusions:\n",
    "The linear model made satisfactory predictions, but it certainly left something to be desired. It might perform better with \n",
    "upsampling of the 0s and 4s.\n",
    "The radial SVM almost did good, but the precision for these lower value-counts was terrible - it would also benefit from upsampling.\n",
    "The torch model did the best, with a 0.6 accuracy, which is barely better than the radial SVM. This close difference is likely due to my inability\n",
    "to get the softmax activation function to work properly. The torch model would likely do better with the softmax activation.\n",
    "\"\"\""
   ]
  },
  {
   "cell_type": "code",
   "execution_count": null,
   "id": "77676093-7ec4-4789-80da-a87551561f82",
   "metadata": {},
   "outputs": [],
   "source": []
  }
 ],
 "metadata": {
  "kernelspec": {
   "display_name": "Python 3",
   "language": "python",
   "name": "python3"
  },
  "language_info": {
   "codemirror_mode": {
    "name": "ipython",
    "version": 3
   },
   "file_extension": ".py",
   "mimetype": "text/x-python",
   "name": "python",
   "nbconvert_exporter": "python",
   "pygments_lexer": "ipython3",
   "version": "3.8.8"
  }
 },
 "nbformat": 4,
 "nbformat_minor": 5
}
